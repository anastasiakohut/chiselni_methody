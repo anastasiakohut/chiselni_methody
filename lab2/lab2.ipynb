{
 "cells": [
  {
   "cell_type": "code",
   "execution_count": 7,
   "metadata": {},
   "outputs": [],
   "source": [
    "import numpy as np\n",
    "\n",
    "def homework(message):\n",
    "    print(\"\\n>>>>>\", message, \"\\n\")"
   ]
  },
  {
   "cell_type": "code",
   "execution_count": 8,
   "metadata": {},
   "outputs": [
    {
     "name": "stdout",
     "output_type": "stream",
     "text": [
      "Отриманий масив має вигляд:\n",
      "array([[ 3,  8,  9],\n",
      "       [ 1, -7,  0],\n",
      "       [ 4, 12,  4]], dtype=int8)\n",
      "Отриманий масив має вигляд:\n",
      "array([[ 3.4,  8.7,  9.9],\n",
      "       [ 1.1, -7.8, -0.7],\n",
      "       [ 4.1, 12.3,  4.8]], dtype=float16)\n",
      "\n",
      ">>>>> Згадуючи ООП, що робить функція repr? \n",
      "\n",
      "Ця функція повертає матрицю в правильному вигляді а не рядком\n",
      "\n",
      ">>>>> У чому різниця між масивами A i B? \n",
      "\n",
      "Різниця в типах даних. У масиву А елементи не заокруглені, тип integer\n"
     ]
    }
   ],
   "source": [
    "lst = [[3.4, 8.7, 9.9],\n",
    "       [1.1, -7.8, -0.7],\n",
    "       [4.1, 12.3, 4.8]]\n",
    "\n",
    "A = np.array(lst, dtype=np.int8)\n",
    "print(f\"Отриманий масив має вигляд:\\n{repr(A)}\")\n",
    "B = np.array(lst, dtype=np.float16)\n",
    "print(f\"Отриманий масив має вигляд:\\n{repr(B)}\")\n",
    "\n",
    "homework(\"Згадуючи ООП, що робить функція repr?\")\n",
    "print('Ця функція повертає матрицю в правильному вигляді а не рядком')\n",
    "homework(\"У чому різниця між масивами A i B?\")\n",
    "print('Різниця в типах даних. У масиву А елементи не заокруглені, тип integer')"
   ]
  },
  {
   "cell_type": "code",
   "execution_count": 9,
   "metadata": {},
   "outputs": [
    {
     "name": "stdout",
     "output_type": "stream",
     "text": [
      "Отриманий масив має вигляд:\n",
      "[('Bohdan', 4) ('Marta', 5) ('Noname', 0)]\n",
      "Доступитись до певної колонки тепер можна за її іменем: [4 5 0]\n",
      "\n",
      ">>>>> Як вивести всі імена присутні в даному масиві? \n",
      "\n",
      "Можна вивести імена таким чином:\n",
      " C[\"name\"]=array(['Bohdan', 'Marta', 'Noname'], dtype='<U20')\n"
     ]
    }
   ],
   "source": [
    "dt = np.dtype([('name', np.compat.unicode, 20), ('mark', np.int8)])\n",
    "arr = [\n",
    "    (\"Bohdan\", 4),\n",
    "    (\"Marta\", 5),\n",
    "    (\"Noname\", 0)\n",
    "]\n",
    "C = np.array(arr, dtype=dt)\n",
    "print(f\"Отриманий масив має вигляд:\\n{C}\")\n",
    "print(f\"Доступитись до певної колонки тепер можна за її іменем: {C['mark']}\")\n",
    "\n",
    "homework(\"Як вивести всі імена присутні в даному масиві?\")\n",
    "print(f'Можна вивести імена таким чином:\\n {C[\"name\"]=}')"
   ]
  },
  {
   "cell_type": "code",
   "execution_count": 10,
   "metadata": {},
   "outputs": [
    {
     "name": "stdout",
     "output_type": "stream",
     "text": [
      "Вихідний масив:  [('Bohdan', 4) ('Marta', 5) ('Noname', 0)]\n",
      "Прочитаний з файлу:  [('Bohdan', 4) ('Marta', 5) ('Noname', 0)]\n",
      "Записуємо у CSV файл temp.csv значення: [('Bohdan', 4) ('Marta', 5) ('Noname', 0)]\n",
      "Перевіряємо чи файл temp.csv створився: ['Array.csv', 'lab2.ipynb', 'my_mass.npz', 'README.md', 'temp.csv']\n",
      "Читаємо файл за допомогою оператора with та методу readlines\n",
      "Прочитаний файл:\n",
      " ['# name,mark\\n', 'Bohdan,4\\n', 'Marta,5\\n', 'Noname,0\\n'] \n",
      "- як бачимо - 4 елементи є стрічками <class 'str'>.\n",
      "Зчитане значення з файла:\n",
      " [('Bohdan', 4) ('Marta', 5) ('Noname', 0)], як бачимо 3 елементи це <class 'numpy.void'> \n",
      "- вбудований клас бібліотеки numpy.\n",
      "Доступитись до певного елемента можна наступним чином, наприклад імя першого елементу: Bohdan\n",
      "\n",
      ">>>>> Створіть додаткове поле group - яке буде вказувавти групу. \n",
      "Допишіть Ваше імя, оцінку та групу до масиву. \n",
      "Збережіть та вичитайте дані у файл.\n",
      "Прочитайте саме Ваше імя з масиву. \n",
      "\n"
     ]
    }
   ],
   "source": [
    "import os\n",
    "print(\"Вихідний масив: \", C)\n",
    "np.savez(\"my_mass.npz\", my_mass=C)\n",
    "D = np.load(\"my_mass.npz\")\n",
    "print(\"Прочитаний з файлу: \", D[\"my_mass\"])\n",
    "\n",
    "filename = \"temp.csv\"\n",
    "print(f\"Записуємо у CSV файл {filename} значення: {C}\")\n",
    "np.savetxt(filename, C, fmt=\"%s,%d\", header=\"name,mark\", delimiter=\",\")\n",
    "\n",
    "print(f\"Перевіряємо чи файл {filename} створився: {os.listdir()}\")\n",
    "\n",
    "print(\"Читаємо файл за допомогою оператора with та методу readlines\")\n",
    "with open(filename) as f:\n",
    "    D = f.readlines()\n",
    "\n",
    "print(f\"Прочитаний файл:\\n {D} \\n- як бачимо - {len(D)} елементи є стрічками {type(D[0])}.\")\n",
    "\n",
    "D = np.genfromtxt(filename, dtype=dt, delimiter=\",\")\n",
    "print(f\"Зчитане значення з файла:\\n {D}, як бачимо {D.size} елементи це {type(D[0])} \\n- вбудований клас бібліотеки numpy.\")\n",
    "print(f\"Доступитись до певного елемента можна наступним чином, наприклад імя першого елементу: {D[0]['name']}\")\n",
    "\n",
    "homework(\"\"\"Створіть додаткове поле group - яке буде вказувавти групу. \n",
    "Допишіть Ваше імя, оцінку та групу до масиву. \n",
    "Збережіть та вичитайте дані у файл.\n",
    "Прочитайте саме Ваше імя з масиву.\"\"\")\n"
   ]
  },
  {
   "cell_type": "code",
   "execution_count": 11,
   "metadata": {},
   "outputs": [
    {
     "name": "stdout",
     "output_type": "stream",
     "text": [
      "Масив:\n",
      "[('KN-320', 'Anastasiya', 5) ('KN-320', 'Diana', 3) ('KN-320', 'Yuriy', 5)\n",
      " ('KN-320', 'Khrystyna', 4)]\n",
      "\n",
      "Масив [('KN-320', 'Anastasiya', 5) ('KN-320', 'Diana', 3) ('KN-320', 'Yuriy', 5)\n",
      " ('KN-320', 'Khrystyna', 4)] був записаний у файл Array.csv\n",
      "\n",
      "Прочитаний масив [('KN-320', 'Anastasiya', 5) ('KN-320', 'Diana', 3) ('KN-320', 'Yuriy', 5)\n",
      " ('KN-320', 'Khrystyna', 4)] з файлу Array.csv\n",
      "\n",
      "Студент Anastasiya\n",
      "має оцінку 5\n",
      "навчається у групі KN-320\n",
      "\n"
     ]
    }
   ],
   "source": [
    "dt = np.dtype([('group', np.compat.unicode, 20),\n",
    "              ('name', np.compat.unicode, 20), ('mark', np.int8)])\n",
    "\n",
    "arr = [\n",
    "    (\"KN-320\", \"Anastasiya\", 5),\n",
    "    (\"KN-320\", \"Diana\", 3),\n",
    "    (\"KN-320\", \"Yuriy\", 5),\n",
    "    (\"KN-320\", \"Khrystyna\", 4)\n",
    "]\n",
    "\n",
    "array = np.array(arr, dtype=dt)\n",
    "\n",
    "print(f\"Масив:\\n{array}\")\n",
    "\n",
    "fn = 'Array.csv'\n",
    "np.savetxt(fn, array, fmt=\"%s,%s,%d\",\n",
    "           header=\"group, name, mark\", delimiter=\",\")\n",
    "\n",
    "print(f'\\nМасив {array} був записаний у файл {fn}')\n",
    "\n",
    "with open(fn) as f:\n",
    "    mas = f.readlines()\n",
    "print(f'\\nПрочитаний масив {array} з файлу {fn}')\n",
    "mas = np.genfromtxt(fn, dtype=dt, delimiter=\",\")\n",
    "\n",
    "print(f\"\"\"\n",
    "Студент {mas[0]['name']}\n",
    "має оцінку {mas[0]['mark']}\n",
    "навчається у групі {mas[0]['group']}\n",
    "\"\"\")"
   ]
  }
 ],
 "metadata": {
  "kernelspec": {
   "display_name": "Python 3",
   "language": "python",
   "name": "python3"
  },
  "language_info": {
   "codemirror_mode": {
    "name": "ipython",
    "version": 3
   },
   "file_extension": ".py",
   "mimetype": "text/x-python",
   "name": "python",
   "nbconvert_exporter": "python",
   "pygments_lexer": "ipython3",
   "version": "3.11.1"
  },
  "orig_nbformat": 4,
  "vscode": {
   "interpreter": {
    "hash": "ebfc0a8d552866b0d59eba665220a57de3bc06f3ac643b8bef38dd8f66781fdd"
   }
  }
 },
 "nbformat": 4,
 "nbformat_minor": 2
}
